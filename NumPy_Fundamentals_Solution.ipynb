{
  "cells": [
    {
      "cell_type": "markdown",
      "metadata": {
        "id": "WPIkVYZER1ub"
      },
      "source": [
        "# NumPy Fundamentals"
      ]
    },
    {
      "cell_type": "markdown",
      "metadata": {
        "id": "EFjd3LOgR1uf"
      },
      "source": [
        "### 1. Run the following cells:"
      ]
    },
    {
      "cell_type": "code",
      "execution_count": 3,
      "metadata": {
        "id": "y2EaD8cBR1uf"
      },
      "outputs": [],
      "source": [
        "import numpy as np"
      ]
    },
    {
      "cell_type": "code",
      "execution_count": 4,
      "metadata": {
        "id": "qNdsIxOUR1ug",
        "outputId": "f20e84c5-d2ca-4e83-d48c-07e484d49901",
        "colab": {
          "base_uri": "https://localhost:8080/"
        }
      },
      "outputs": [
        {
          "output_type": "execute_result",
          "data": {
            "text/plain": [
              "array([10, 11, 12, 13, 14])"
            ]
          },
          "metadata": {},
          "execution_count": 4
        }
      ],
      "source": [
        "array_1D = np.array([10,11,12,13, 14])\n",
        "array_1D"
      ]
    },
    {
      "cell_type": "code",
      "execution_count": 6,
      "metadata": {
        "id": "_mr7uu6iR1ui",
        "outputId": "5a52d12d-4b09-4f4b-a1d3-b03158cae1cb",
        "colab": {
          "base_uri": "https://localhost:8080/"
        }
      },
      "outputs": [
        {
          "output_type": "execute_result",
          "data": {
            "text/plain": [
              "array([[20, 30, 40, 50, 60],\n",
              "       [43, 54, 65, 76, 87],\n",
              "       [11, 22, 33, 44, 55]])"
            ]
          },
          "metadata": {},
          "execution_count": 6
        }
      ],
      "source": [
        "array_2D = np.array([[20,30,40,50,60], [43,54,65,76,87], [11,22,33,44,55]])\n",
        "array_2D"
      ]
    },
    {
      "cell_type": "code",
      "execution_count": 5,
      "metadata": {
        "id": "rORPGhxBR1uj",
        "outputId": "ee25da2a-a2d4-46dc-82ef-ba7b380f76b1",
        "colab": {
          "base_uri": "https://localhost:8080/"
        }
      },
      "outputs": [
        {
          "output_type": "execute_result",
          "data": {
            "text/plain": [
              "array([[[ 1,  2,  3,  4,  5],\n",
              "        [11, 21, 31, 41, 51]],\n",
              "\n",
              "       [[11, 12, 13, 14, 15],\n",
              "        [51, 52, 53, 54,  5]]])"
            ]
          },
          "metadata": {},
          "execution_count": 5
        }
      ],
      "source": [
        "array_3D = np.array([[[1,2,3,4,5], [11,21,31,41,51]], [[11,12,13,14,15], [51,52,53,54,5]]])\n",
        "array_3D"
      ]
    },
    {
      "cell_type": "markdown",
      "metadata": {
        "id": "Cci_2SR9R1uj"
      },
      "source": [
        "### 2. Display the first element (not necessarily individual element) for each of the 3 arrays we defined above."
      ]
    },
    {
      "cell_type": "code",
      "execution_count": 7,
      "metadata": {
        "id": "9WGdUV1eR1uk",
        "outputId": "de6550cc-81b2-45f6-a74f-571588527dc6",
        "colab": {
          "base_uri": "https://localhost:8080/"
        }
      },
      "outputs": [
        {
          "output_type": "execute_result",
          "data": {
            "text/plain": [
              "np.int64(10)"
            ]
          },
          "metadata": {},
          "execution_count": 7
        }
      ],
      "source": [
        "array_1D[0]"
      ]
    },
    {
      "cell_type": "code",
      "execution_count": 8,
      "metadata": {
        "id": "6habE3C8R1uk",
        "outputId": "fc1ba61d-55b6-4725-d587-5a4d60c00a85",
        "colab": {
          "base_uri": "https://localhost:8080/"
        }
      },
      "outputs": [
        {
          "output_type": "execute_result",
          "data": {
            "text/plain": [
              "array([20, 30, 40, 50, 60])"
            ]
          },
          "metadata": {},
          "execution_count": 8
        }
      ],
      "source": [
        "array_2D[0]"
      ]
    },
    {
      "cell_type": "code",
      "execution_count": 9,
      "metadata": {
        "id": "mqwEGcVFR1uk",
        "outputId": "45acaf48-55e1-4bd4-dc15-04748566d56f",
        "colab": {
          "base_uri": "https://localhost:8080/"
        }
      },
      "outputs": [
        {
          "output_type": "execute_result",
          "data": {
            "text/plain": [
              "array([[ 1,  2,  3,  4,  5],\n",
              "       [11, 21, 31, 41, 51]])"
            ]
          },
          "metadata": {},
          "execution_count": 9
        }
      ],
      "source": [
        "array_3D[0]"
      ]
    },
    {
      "cell_type": "markdown",
      "metadata": {
        "id": "JTqMRM18R1ul"
      },
      "source": [
        "### 3. Call the first individual element of the each of the 3 arrays."
      ]
    },
    {
      "cell_type": "code",
      "execution_count": 10,
      "metadata": {
        "id": "N7ADL8_ER1ul",
        "outputId": "af060263-40b7-4922-d3ba-f9adb01fc9fa",
        "colab": {
          "base_uri": "https://localhost:8080/"
        }
      },
      "outputs": [
        {
          "output_type": "execute_result",
          "data": {
            "text/plain": [
              "np.int64(10)"
            ]
          },
          "metadata": {},
          "execution_count": 10
        }
      ],
      "source": [
        "array_1D[0]"
      ]
    },
    {
      "cell_type": "code",
      "execution_count": 11,
      "metadata": {
        "id": "71hirnFgR1ul",
        "outputId": "eaca5baf-0e57-41f1-9275-0f0a431596ad",
        "colab": {
          "base_uri": "https://localhost:8080/"
        }
      },
      "outputs": [
        {
          "output_type": "execute_result",
          "data": {
            "text/plain": [
              "np.int64(20)"
            ]
          },
          "metadata": {},
          "execution_count": 11
        }
      ],
      "source": [
        "array_2D[0,0]\n",
        "#array_2D[0][0]"
      ]
    },
    {
      "cell_type": "code",
      "execution_count": 12,
      "metadata": {
        "id": "mWmEIciaR1um",
        "outputId": "ccec4b55-798a-4dbe-91d0-43dd9e9935aa",
        "colab": {
          "base_uri": "https://localhost:8080/"
        }
      },
      "outputs": [
        {
          "output_type": "execute_result",
          "data": {
            "text/plain": [
              "np.int64(1)"
            ]
          },
          "metadata": {},
          "execution_count": 12
        }
      ],
      "source": [
        "array_3D[0,0,0]\n",
        "#array_3D[0][0][0]\n",
        "#array_3D[0,0][0]\n",
        "#array_3D[0][0,0]"
      ]
    },
    {
      "cell_type": "markdown",
      "metadata": {
        "id": "um_otKZrR1um"
      },
      "source": [
        "### 4. Uses negative indices to display the last element of each array."
      ]
    },
    {
      "cell_type": "code",
      "execution_count": 13,
      "metadata": {
        "id": "uGfeBiA-R1um",
        "outputId": "e57ddeab-0588-4b0b-9623-545f42242ea6",
        "colab": {
          "base_uri": "https://localhost:8080/"
        }
      },
      "outputs": [
        {
          "output_type": "execute_result",
          "data": {
            "text/plain": [
              "np.int64(14)"
            ]
          },
          "metadata": {},
          "execution_count": 13
        }
      ],
      "source": [
        "array_1D[-1]"
      ]
    },
    {
      "cell_type": "code",
      "execution_count": 14,
      "metadata": {
        "id": "sY8JVai_R1un",
        "outputId": "ee89823a-afc8-4ff5-8824-dc1b96c31056",
        "colab": {
          "base_uri": "https://localhost:8080/"
        }
      },
      "outputs": [
        {
          "output_type": "execute_result",
          "data": {
            "text/plain": [
              "array([11, 22, 33, 44, 55])"
            ]
          },
          "metadata": {},
          "execution_count": 14
        }
      ],
      "source": [
        "array_2D[-1]"
      ]
    },
    {
      "cell_type": "code",
      "execution_count": 15,
      "metadata": {
        "id": "E1eGpZSCR1un",
        "outputId": "e5a0724c-40d4-4cd0-8934-8ef645435653",
        "colab": {
          "base_uri": "https://localhost:8080/"
        }
      },
      "outputs": [
        {
          "output_type": "execute_result",
          "data": {
            "text/plain": [
              "array([[11, 12, 13, 14, 15],\n",
              "       [51, 52, 53, 54,  5]])"
            ]
          },
          "metadata": {},
          "execution_count": 15
        }
      ],
      "source": [
        "array_3D[-1]"
      ]
    },
    {
      "cell_type": "markdown",
      "metadata": {
        "id": "eQiPIi2NR1un"
      },
      "source": [
        "### 5. Set the penultimate (second-to-last) <i> individual </i> element of each array equal to 10. Then display the variables to check your work.\n",
        "(<b>Hint</b>: If it's the penultimate individual element of the 2-D/3-D array, it needs to be in the last row of the 2-D array)"
      ]
    },
    {
      "cell_type": "code",
      "execution_count": 16,
      "metadata": {
        "id": "gYIZN4zxR1un",
        "outputId": "6bf8f0f1-bffa-4df2-a158-2e8738fdebe8",
        "colab": {
          "base_uri": "https://localhost:8080/"
        }
      },
      "outputs": [
        {
          "output_type": "execute_result",
          "data": {
            "text/plain": [
              "array([10, 11, 12, 10, 14])"
            ]
          },
          "metadata": {},
          "execution_count": 16
        }
      ],
      "source": [
        "array_1D[-2] = 10\n",
        "array_1D"
      ]
    },
    {
      "cell_type": "code",
      "execution_count": 17,
      "metadata": {
        "id": "7arstgYBR1uo",
        "outputId": "0045de9a-7fc9-44cb-da95-da44af946e6d",
        "colab": {
          "base_uri": "https://localhost:8080/"
        }
      },
      "outputs": [
        {
          "output_type": "execute_result",
          "data": {
            "text/plain": [
              "array([[20, 30, 40, 50, 60],\n",
              "       [43, 54, 65, 76, 87],\n",
              "       [11, 22, 33, 10, 55]])"
            ]
          },
          "metadata": {},
          "execution_count": 17
        }
      ],
      "source": [
        "array_2D[-1,-2] = 10\n",
        "array_2D"
      ]
    },
    {
      "cell_type": "code",
      "execution_count": 18,
      "metadata": {
        "id": "BPtA7PsXR1uo",
        "outputId": "d999d536-f225-43e8-d0bd-c7d881d2b949",
        "colab": {
          "base_uri": "https://localhost:8080/"
        }
      },
      "outputs": [
        {
          "output_type": "execute_result",
          "data": {
            "text/plain": [
              "array([[[ 1,  2,  3,  4,  5],\n",
              "        [11, 21, 31, 41, 51]],\n",
              "\n",
              "       [[11, 12, 13, 14, 15],\n",
              "        [51, 52, 53, 10,  5]]])"
            ]
          },
          "metadata": {},
          "execution_count": 18
        }
      ],
      "source": [
        "array_3D[-1,-1,-2] = 10\n",
        "array_3D"
      ]
    },
    {
      "cell_type": "markdown",
      "metadata": {
        "id": "XS0iF_k2R1uo"
      },
      "source": [
        "### 6. Set the last column of the 2-D array to 100. Then display the variables to check your work."
      ]
    },
    {
      "cell_type": "code",
      "execution_count": 19,
      "metadata": {
        "id": "3tfb4LOTR1uo",
        "outputId": "b7fa7dc2-6611-4278-b2c8-37c3188a0ddf",
        "colab": {
          "base_uri": "https://localhost:8080/"
        }
      },
      "outputs": [
        {
          "output_type": "execute_result",
          "data": {
            "text/plain": [
              "array([[ 20,  30,  40,  50, 100],\n",
              "       [ 43,  54,  65,  76, 100],\n",
              "       [ 11,  22,  33,  10, 100]])"
            ]
          },
          "metadata": {},
          "execution_count": 19
        }
      ],
      "source": [
        "array_2D[:,-1] = 100\n",
        "array_2D"
      ]
    },
    {
      "cell_type": "markdown",
      "metadata": {
        "id": "tGa5tpXOR1uo"
      },
      "source": [
        "### 7. Set all the values of the 3-D array to 1000. Then display the variables to check your work."
      ]
    },
    {
      "cell_type": "code",
      "execution_count": 20,
      "metadata": {
        "id": "74kR63D5R1up",
        "outputId": "0cb183d0-01db-4c41-87a3-ded7f2bd41da",
        "colab": {
          "base_uri": "https://localhost:8080/"
        }
      },
      "outputs": [
        {
          "output_type": "execute_result",
          "data": {
            "text/plain": [
              "array([[[1000, 1000, 1000, 1000, 1000],\n",
              "        [1000, 1000, 1000, 1000, 1000]],\n",
              "\n",
              "       [[1000, 1000, 1000, 1000, 1000],\n",
              "        [1000, 1000, 1000, 1000, 1000]]])"
            ]
          },
          "metadata": {},
          "execution_count": 20
        }
      ],
      "source": [
        "array_3D[:] = 1000\n",
        "array_3D"
      ]
    },
    {
      "cell_type": "markdown",
      "metadata": {
        "id": "eGhdGTo6R1up"
      },
      "source": [
        "### 8. Run the next 3 cells to re-define the 3 arrays, since we altered their contents."
      ]
    },
    {
      "cell_type": "code",
      "execution_count": 21,
      "metadata": {
        "id": "BbtioGWbR1up",
        "outputId": "50c750ee-434a-4f6b-96b8-773d0b69c0ea",
        "colab": {
          "base_uri": "https://localhost:8080/"
        }
      },
      "outputs": [
        {
          "output_type": "execute_result",
          "data": {
            "text/plain": [
              "array([10, 11, 12, 13, 14])"
            ]
          },
          "metadata": {},
          "execution_count": 21
        }
      ],
      "source": [
        "array_1D = np.array([10,11,12,13,14])\n",
        "array_1D"
      ]
    },
    {
      "cell_type": "code",
      "execution_count": 22,
      "metadata": {
        "id": "0qkAo1bbR1up",
        "outputId": "8010aea4-07e0-4245-ec96-e41058f14d55",
        "colab": {
          "base_uri": "https://localhost:8080/"
        }
      },
      "outputs": [
        {
          "output_type": "execute_result",
          "data": {
            "text/plain": [
              "array([[20, 30, 40, 50, 60],\n",
              "       [43, 54, 65, 76, 87],\n",
              "       [11, 22, 33, 44, 55]])"
            ]
          },
          "metadata": {},
          "execution_count": 22
        }
      ],
      "source": [
        "array_2D = np.array([[20,30,40,50,60], [43,54,65,76,87], [11,22,33,44,55]])\n",
        "array_2D"
      ]
    },
    {
      "cell_type": "code",
      "execution_count": 23,
      "metadata": {
        "id": "oJzRKMC7R1uq",
        "outputId": "9629024c-e92f-415c-e8fa-fdc0c9c0e5e0",
        "colab": {
          "base_uri": "https://localhost:8080/"
        }
      },
      "outputs": [
        {
          "output_type": "execute_result",
          "data": {
            "text/plain": [
              "array([[[ 1,  2,  3,  4,  5],\n",
              "        [11, 21, 31, 41, 51]],\n",
              "\n",
              "       [[11, 12, 13, 14, 15],\n",
              "        [51, 52, 53, 54,  5]]])"
            ]
          },
          "metadata": {},
          "execution_count": 23
        }
      ],
      "source": [
        "array_3D = np.array([[[1,2,3,4,5], [11,21,31,41,51]], [[11,12,13,14,15], [51,52,53,54,5]]])\n",
        "array_3D"
      ]
    },
    {
      "cell_type": "markdown",
      "metadata": {
        "id": "u8qiyWgER1uq"
      },
      "source": [
        "### 9. Add 2 to every element of the 3 arrays without overwriting their values."
      ]
    },
    {
      "cell_type": "code",
      "execution_count": 24,
      "metadata": {
        "id": "PX4yAO6rR1uq",
        "outputId": "4e2f2901-bf25-4cf6-9649-e1c1837f61ac",
        "colab": {
          "base_uri": "https://localhost:8080/"
        }
      },
      "outputs": [
        {
          "output_type": "execute_result",
          "data": {
            "text/plain": [
              "array([12, 13, 14, 15, 16])"
            ]
          },
          "metadata": {},
          "execution_count": 24
        }
      ],
      "source": [
        "array_1D + 2"
      ]
    },
    {
      "cell_type": "code",
      "execution_count": 25,
      "metadata": {
        "id": "X4fxxyGYR1uq",
        "outputId": "ce4178da-55a7-4d9a-a2e1-b7fff60ec4c4",
        "colab": {
          "base_uri": "https://localhost:8080/"
        }
      },
      "outputs": [
        {
          "output_type": "execute_result",
          "data": {
            "text/plain": [
              "array([[22, 32, 42, 52, 62],\n",
              "       [45, 56, 67, 78, 89],\n",
              "       [13, 24, 35, 46, 57]])"
            ]
          },
          "metadata": {},
          "execution_count": 25
        }
      ],
      "source": [
        "array_2D + 2"
      ]
    },
    {
      "cell_type": "code",
      "execution_count": null,
      "metadata": {
        "id": "g4lCFw1WR1uq",
        "outputId": "3b87ae52-5ff6-404f-d457-13a7c66693d6"
      },
      "outputs": [
        {
          "data": {
            "text/plain": [
              "array([[[ 3,  4,  5,  6,  7],\n",
              "        [13, 23, 33, 43, 53]],\n",
              "\n",
              "       [[13, 14, 15, 16, 17],\n",
              "        [53, 54, 55, 56,  7]]])"
            ]
          },
          "execution_count": 24,
          "metadata": {},
          "output_type": "execute_result"
        }
      ],
      "source": [
        "array_3D + 2"
      ]
    },
    {
      "cell_type": "markdown",
      "metadata": {
        "id": "6SCl-_bvR1ur"
      },
      "source": [
        "### 10. Multiply the values of each array by 100 without overwriting their values."
      ]
    },
    {
      "cell_type": "code",
      "execution_count": 26,
      "metadata": {
        "id": "0jrLB7iRR1ur",
        "outputId": "522f7a66-21ef-4bf5-c297-8ac2ca7a63dd",
        "colab": {
          "base_uri": "https://localhost:8080/"
        }
      },
      "outputs": [
        {
          "output_type": "execute_result",
          "data": {
            "text/plain": [
              "array([1000, 1100, 1200, 1300, 1400])"
            ]
          },
          "metadata": {},
          "execution_count": 26
        }
      ],
      "source": [
        "array_1D * 100"
      ]
    },
    {
      "cell_type": "code",
      "execution_count": 27,
      "metadata": {
        "id": "sBFbey0dR1ur",
        "outputId": "8495a2fd-26f3-41e8-9f41-80023983fa30",
        "colab": {
          "base_uri": "https://localhost:8080/"
        }
      },
      "outputs": [
        {
          "output_type": "execute_result",
          "data": {
            "text/plain": [
              "array([[2000, 3000, 4000, 5000, 6000],\n",
              "       [4300, 5400, 6500, 7600, 8700],\n",
              "       [1100, 2200, 3300, 4400, 5500]])"
            ]
          },
          "metadata": {},
          "execution_count": 27
        }
      ],
      "source": [
        "array_2D * 100"
      ]
    },
    {
      "cell_type": "code",
      "execution_count": 28,
      "metadata": {
        "id": "OmDWUcdOR1ur",
        "outputId": "bca3fdb2-d769-4a4e-cd16-7c901b164dfe",
        "colab": {
          "base_uri": "https://localhost:8080/"
        }
      },
      "outputs": [
        {
          "output_type": "execute_result",
          "data": {
            "text/plain": [
              "array([[[ 100,  200,  300,  400,  500],\n",
              "        [1100, 2100, 3100, 4100, 5100]],\n",
              "\n",
              "       [[1100, 1200, 1300, 1400, 1500],\n",
              "        [5100, 5200, 5300, 5400,  500]]])"
            ]
          },
          "metadata": {},
          "execution_count": 28
        }
      ],
      "source": [
        "array_3D * 100"
      ]
    },
    {
      "cell_type": "markdown",
      "metadata": {
        "id": "OplZT2uTR1ur"
      },
      "source": [
        "### 11. Add up <i>array_1D</i> and the first row of <i>array_2D</i>"
      ]
    },
    {
      "cell_type": "code",
      "execution_count": 29,
      "metadata": {
        "id": "MFFAQ0ezR1us",
        "outputId": "5a97d059-e0ae-40c8-e1cc-ca1ed77db33b",
        "colab": {
          "base_uri": "https://localhost:8080/"
        }
      },
      "outputs": [
        {
          "output_type": "execute_result",
          "data": {
            "text/plain": [
              "array([30, 41, 52, 63, 74])"
            ]
          },
          "metadata": {},
          "execution_count": 29
        }
      ],
      "source": [
        "array_1D + array_2D[0]"
      ]
    },
    {
      "cell_type": "markdown",
      "metadata": {
        "id": "TH43orFRR1ut"
      },
      "source": [
        "### 12. Find the product of <i>array_1D</i> and the first row of <i>array_2D</i>"
      ]
    },
    {
      "cell_type": "code",
      "execution_count": 30,
      "metadata": {
        "id": "jiT8JXLkR1ut",
        "outputId": "a741317d-e4b4-4007-8887-55d5e0d4b2c2",
        "colab": {
          "base_uri": "https://localhost:8080/"
        }
      },
      "outputs": [
        {
          "output_type": "execute_result",
          "data": {
            "text/plain": [
              "array([200, 330, 480, 650, 840])"
            ]
          },
          "metadata": {},
          "execution_count": 30
        }
      ],
      "source": [
        "array_1D * array_2D[0]"
      ]
    },
    {
      "cell_type": "markdown",
      "metadata": {
        "id": "p9ilT2AhR1uu"
      },
      "source": [
        "### 13. Find the product  of the first row of <i>array_2D</i> and the first row of the first array of <i> array_3D </i>"
      ]
    },
    {
      "cell_type": "code",
      "execution_count": 31,
      "metadata": {
        "id": "Cypin6xxR1uu",
        "outputId": "179b8401-63e4-4a48-db7b-782dd79a4075",
        "colab": {
          "base_uri": "https://localhost:8080/"
        }
      },
      "outputs": [
        {
          "output_type": "execute_result",
          "data": {
            "text/plain": [
              "array([ 20,  60, 120, 200, 300])"
            ]
          },
          "metadata": {},
          "execution_count": 31
        }
      ],
      "source": [
        "array_2D[0] * array_3D[0, 0]"
      ]
    },
    {
      "cell_type": "markdown",
      "metadata": {
        "id": "2-Iqq2omR1uu"
      },
      "source": [
        "### 14. Subtract <i> array_1D </i> from the first row of <i>array_2D</i>"
      ]
    },
    {
      "cell_type": "code",
      "execution_count": 32,
      "metadata": {
        "id": "a-P_ZcJ2R1uu",
        "outputId": "0bd72d12-7d0d-479c-ee34-d45d59bb66e7",
        "colab": {
          "base_uri": "https://localhost:8080/"
        }
      },
      "outputs": [
        {
          "output_type": "execute_result",
          "data": {
            "text/plain": [
              "array([10, 19, 28, 37, 46])"
            ]
          },
          "metadata": {},
          "execution_count": 32
        }
      ],
      "source": [
        "array_2D[0] - array_1D"
      ]
    },
    {
      "cell_type": "markdown",
      "metadata": {
        "id": "VxTqCELTR1uv"
      },
      "source": [
        "### 15. Subtract the first row of <i>array_2D</i> from  <i> array_1D </i>"
      ]
    },
    {
      "cell_type": "code",
      "execution_count": 33,
      "metadata": {
        "id": "_S0DTIssR1uv",
        "outputId": "ea82c723-d1db-41e5-f6c3-ee42f8a3c600",
        "colab": {
          "base_uri": "https://localhost:8080/"
        }
      },
      "outputs": [
        {
          "output_type": "execute_result",
          "data": {
            "text/plain": [
              "array([-10, -19, -28, -37, -46])"
            ]
          },
          "metadata": {},
          "execution_count": 33
        }
      ],
      "source": [
        "array_1D - array_2D[0]"
      ]
    },
    {
      "cell_type": "markdown",
      "metadata": {
        "id": "hLGJW3Z6R1uv"
      },
      "source": [
        "### 16. Alter the code in the next 3 cells to re-define the 3 arrays as the following datatypes:\n",
        "    A) array_1D -> NumPy Strings\n",
        "    B) array_2D -> Complex Numbers\n",
        "    C) array_3D -> 64-bit Floats\n",
        "    \n",
        "   (<b>Hint</b>: The datatypes are the following: <i>np.str</i>, <i>np.complex</i>, <i>np.float64</i>)"
      ]
    },
    {
      "cell_type": "code",
      "execution_count": 47,
      "metadata": {
        "id": "abVoYyqJR1uv",
        "outputId": "8107f416-dede-4f9a-b0c3-57a8b28c516c",
        "colab": {
          "base_uri": "https://localhost:8080/"
        }
      },
      "outputs": [
        {
          "output_type": "execute_result",
          "data": {
            "text/plain": [
              "array(['10', '11', '12', '13', '14'], dtype='<U2')"
            ]
          },
          "metadata": {},
          "execution_count": 47
        }
      ],
      "source": [
        "array_1D = np.array([10,11,12,13,14], dtype = np.str_) # need to change np.str to np.str_\n",
        "array_1D"
      ]
    },
    {
      "cell_type": "code",
      "execution_count": 45,
      "metadata": {
        "id": "JDdt3VilR1uw",
        "outputId": "5cb23661-d973-4457-e368-5012583ac5e3",
        "colab": {
          "base_uri": "https://localhost:8080/"
        }
      },
      "outputs": [
        {
          "output_type": "execute_result",
          "data": {
            "text/plain": [
              "array([[20.+0.j, 30.+0.j, 40.+0.j, 50.+0.j, 60.+0.j],\n",
              "       [43.+0.j, 54.+0.j, 65.+0.j, 76.+0.j, 87.+0.j],\n",
              "       [11.+0.j, 22.+0.j, 33.+0.j, 44.+0.j, 55.+0.j]])"
            ]
          },
          "metadata": {},
          "execution_count": 45
        }
      ],
      "source": [
        "array_2D = np.array([[20,30,40,50,60], [43,54,65,76,87], [11,22,33,44,55]], dtype = np.complex128) # np.complex to np.complex128\n",
        "array_2D"
      ]
    },
    {
      "cell_type": "code",
      "execution_count": 37,
      "metadata": {
        "id": "mUQNd41uR1uw",
        "outputId": "6ee009fb-7868-4de0-f80d-666648aabf71",
        "colab": {
          "base_uri": "https://localhost:8080/"
        }
      },
      "outputs": [
        {
          "output_type": "execute_result",
          "data": {
            "text/plain": [
              "array([[[ 1.,  2.,  3.,  4.,  5.],\n",
              "        [11., 21., 31., 41., 51.]],\n",
              "\n",
              "       [[11., 12., 13., 14., 15.],\n",
              "        [51., 52., 53., 54.,  5.]]])"
            ]
          },
          "metadata": {},
          "execution_count": 37
        }
      ],
      "source": [
        "array_3D = np.array([[[1,2,3,4,5], [11,21,31,41,51]], [[11,12,13,14,15], [51,52,53,54,5]]], dtype = np.float64)\n",
        "array_3D"
      ]
    },
    {
      "cell_type": "markdown",
      "metadata": {
        "id": "dSNeHy_JR1uw"
      },
      "source": [
        "### 17. Now run the next 3 cells to re-define the 3 arrays as 32-bit floats, since we want to run some more computations on them"
      ]
    },
    {
      "cell_type": "code",
      "execution_count": 38,
      "metadata": {
        "id": "hz82R_8OR1uw",
        "outputId": "0d12c7ca-0e52-4ad0-c18b-7cee81508c6a",
        "colab": {
          "base_uri": "https://localhost:8080/"
        }
      },
      "outputs": [
        {
          "output_type": "execute_result",
          "data": {
            "text/plain": [
              "array([10., 11., 12., 13., 14.], dtype=float32)"
            ]
          },
          "metadata": {},
          "execution_count": 38
        }
      ],
      "source": [
        "array_1D = np.array([10,11,12,13,14], dtype = np.float32)\n",
        "array_1D"
      ]
    },
    {
      "cell_type": "code",
      "execution_count": null,
      "metadata": {
        "id": "CfFQott5R1ux",
        "outputId": "81a733a4-efad-435c-beb4-bc29920f28f8"
      },
      "outputs": [
        {
          "data": {
            "text/plain": [
              "array([[20., 30., 40., 50., 60.],\n",
              "       [43., 54., 65., 76., 87.],\n",
              "       [11., 22., 33., 44., 55.]], dtype=float32)"
            ]
          },
          "execution_count": 37,
          "metadata": {},
          "output_type": "execute_result"
        }
      ],
      "source": [
        "array_2D = np.array([[20,30,40,50,60], [43,54,65,76,87], [11,22,33,44,55]], dtype = np.float32)\n",
        "array_2D"
      ]
    },
    {
      "cell_type": "code",
      "execution_count": null,
      "metadata": {
        "id": "82CIb5k1R1ux",
        "outputId": "be4135c2-ae09-45b1-b733-0da5a34416d1"
      },
      "outputs": [
        {
          "data": {
            "text/plain": [
              "array([[[ 1.,  2.,  3.,  4.,  5.],\n",
              "        [11., 21., 31., 41., 51.]],\n",
              "\n",
              "       [[11., 12., 13., 14., 15.],\n",
              "        [51., 52., 53., 54.,  5.]]], dtype=float32)"
            ]
          },
          "execution_count": 38,
          "metadata": {},
          "output_type": "execute_result"
        }
      ],
      "source": [
        "array_3D = np.array([[[1,2,3,4,5], [11,21,31,41,51]], [[11,12,13,14,15], [51,52,53,54,5]]], dtype = np.float32)\n",
        "array_3D"
      ]
    },
    {
      "cell_type": "markdown",
      "metadata": {
        "id": "fFTnzJP6R1uy"
      },
      "source": [
        "### 18. Use broadcasting to subtract  <i>array_1D</i> from every row of <i> array_2D </i>\n",
        "   (<b>Hint</b>: You **don't** need a function to do this.)"
      ]
    },
    {
      "cell_type": "code",
      "execution_count": 39,
      "metadata": {
        "id": "UCT2mszJR1uy",
        "outputId": "9bed3b44-35eb-4602-b1ac-f4c6ff0b9b59",
        "colab": {
          "base_uri": "https://localhost:8080/"
        }
      },
      "outputs": [
        {
          "output_type": "execute_result",
          "data": {
            "text/plain": [
              "array([[10., 19., 28., 37., 46.],\n",
              "       [33., 43., 53., 63., 73.],\n",
              "       [ 1., 11., 21., 31., 41.]])"
            ]
          },
          "metadata": {},
          "execution_count": 39
        }
      ],
      "source": [
        "array_2D - array_1D"
      ]
    },
    {
      "cell_type": "markdown",
      "metadata": {
        "id": "hNBfVf7pR1uy"
      },
      "source": [
        "### 19. Use broadcasting to divide all rows of <i>array_3D</i> by <i> array_1D </i>"
      ]
    },
    {
      "cell_type": "code",
      "execution_count": 40,
      "metadata": {
        "id": "nqrtUdkeR1uy",
        "outputId": "3e509e27-c5b6-4e15-dc5e-ec508dbfce61",
        "colab": {
          "base_uri": "https://localhost:8080/"
        }
      },
      "outputs": [
        {
          "output_type": "execute_result",
          "data": {
            "text/plain": [
              "array([[[0.1       , 0.18181818, 0.25      , 0.30769231, 0.35714286],\n",
              "        [1.1       , 1.90909091, 2.58333333, 3.15384615, 3.64285714]],\n",
              "\n",
              "       [[1.1       , 1.09090909, 1.08333333, 1.07692308, 1.07142857],\n",
              "        [5.1       , 4.72727273, 4.41666667, 4.15384615, 0.35714286]]])"
            ]
          },
          "metadata": {},
          "execution_count": 40
        }
      ],
      "source": [
        "array_3D / array_1D"
      ]
    },
    {
      "cell_type": "markdown",
      "metadata": {
        "id": "8h1ZSMRAR1uz"
      },
      "source": [
        "### 19. Use broadcasting to find the product of all rows of <i>array_3D</i>  and the last row of <i> array_2D </i>"
      ]
    },
    {
      "cell_type": "code",
      "execution_count": 41,
      "metadata": {
        "id": "GL2VziIcR1uz",
        "outputId": "3ac703f4-ff2a-4576-ca52-d0ffe2f82102",
        "colab": {
          "base_uri": "https://localhost:8080/"
        }
      },
      "outputs": [
        {
          "output_type": "execute_result",
          "data": {
            "text/plain": [
              "array([[[  11.,   44.,   99.,  176.,  275.],\n",
              "        [ 121.,  462., 1023., 1804., 2805.]],\n",
              "\n",
              "       [[ 121.,  264.,  429.,  616.,  825.],\n",
              "        [ 561., 1144., 1749., 2376.,  275.]]])"
            ]
          },
          "metadata": {},
          "execution_count": 41
        }
      ],
      "source": [
        "array_3D * array_2D[-1]"
      ]
    },
    {
      "cell_type": "markdown",
      "metadata": {
        "id": "PXxCeV2sR1uz"
      },
      "source": [
        "### 20. Since these products are all integers, let's cast them as such\n",
        "   (<b>Hint</b>: You can use the np.array() function here)"
      ]
    },
    {
      "cell_type": "code",
      "execution_count": 42,
      "metadata": {
        "id": "DgyGiERsR1u0",
        "outputId": "5927c716-e97c-4bcb-9747-21817f7dd0c3",
        "colab": {
          "base_uri": "https://localhost:8080/"
        }
      },
      "outputs": [
        {
          "output_type": "execute_result",
          "data": {
            "text/plain": [
              "array([[[  11,   44,   99,  176,  275],\n",
              "        [ 121,  462, 1023, 1804, 2805]],\n",
              "\n",
              "       [[ 121,  264,  429,  616,  825],\n",
              "        [ 561, 1144, 1749, 2376,  275]]], dtype=int32)"
            ]
          },
          "metadata": {},
          "execution_count": 42
        }
      ],
      "source": [
        "np.array(array_3D * array_2D[-1], dtype = np.int32)"
      ]
    },
    {
      "cell_type": "markdown",
      "metadata": {
        "id": "t5BmU3wRR1u0"
      },
      "source": [
        "### 21. Let's use axis argument of the np.mean() function to find the mean for every column of the 2-D array"
      ]
    },
    {
      "cell_type": "code",
      "execution_count": 43,
      "metadata": {
        "id": "U93LUtgdR1u0",
        "colab": {
          "base_uri": "https://localhost:8080/"
        },
        "outputId": "759d887b-dd5f-4ce1-ec5d-b3feb9742126"
      },
      "outputs": [
        {
          "output_type": "execute_result",
          "data": {
            "text/plain": [
              "array([24.66666667, 35.33333333, 46.        , 56.66666667, 67.33333333])"
            ]
          },
          "metadata": {},
          "execution_count": 43
        }
      ],
      "source": [
        "np.mean(array_2D, axis = 0)"
      ]
    },
    {
      "cell_type": "markdown",
      "metadata": {
        "id": "eZQieXKGR1u1"
      },
      "source": [
        "### 22. Let's use axis argument of the np.mean() function to find the mean for every column of the 3-D array\n",
        "   (<b>Hint</b>: Make sure you define the correct axis.)"
      ]
    },
    {
      "cell_type": "code",
      "execution_count": 44,
      "metadata": {
        "id": "R3YeDobaR1u1",
        "outputId": "deaa54bd-f49e-4176-8b5d-ee35406479d9",
        "colab": {
          "base_uri": "https://localhost:8080/"
        }
      },
      "outputs": [
        {
          "output_type": "execute_result",
          "data": {
            "text/plain": [
              "array([[ 6. , 11.5, 17. , 22.5, 28. ],\n",
              "       [31. , 32. , 33. , 34. , 10. ]])"
            ]
          },
          "metadata": {},
          "execution_count": 44
        }
      ],
      "source": [
        "np.mean(array_3D, axis = 1)"
      ]
    }
  ],
  "metadata": {
    "kernelspec": {
      "display_name": "Python 3",
      "language": "python",
      "name": "python3"
    },
    "language_info": {
      "codemirror_mode": {
        "name": "ipython",
        "version": 3
      },
      "file_extension": ".py",
      "mimetype": "text/x-python",
      "name": "python",
      "nbconvert_exporter": "python",
      "pygments_lexer": "ipython3",
      "version": "3.7.6"
    },
    "colab": {
      "provenance": []
    }
  },
  "nbformat": 4,
  "nbformat_minor": 0
}