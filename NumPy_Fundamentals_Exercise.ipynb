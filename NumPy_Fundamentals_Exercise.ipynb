{
  "cells": [
    {
      "cell_type": "markdown",
      "metadata": {
        "id": "Zo6DZ4mSRknQ"
      },
      "source": [
        "# NumPy Fundamentals"
      ]
    },
    {
      "cell_type": "markdown",
      "metadata": {
        "id": "f8ZBoqJ1RknU"
      },
      "source": [
        "### 1. Run the following cells:"
      ]
    },
    {
      "cell_type": "code",
      "execution_count": 4,
      "metadata": {
        "id": "VlJDOblZRknV"
      },
      "outputs": [],
      "source": [
        "import numpy as np"
      ]
    },
    {
      "cell_type": "code",
      "execution_count": 6,
      "metadata": {
        "id": "GnZlVP4ARknX",
        "outputId": "4caa938b-cc69-4615-f8bd-272652e137fb",
        "colab": {
          "base_uri": "https://localhost:8080/"
        }
      },
      "outputs": [
        {
          "output_type": "execute_result",
          "data": {
            "text/plain": [
              "array([10, 11, 12, 13, 14])"
            ]
          },
          "metadata": {},
          "execution_count": 6
        }
      ],
      "source": [
        "array_1D = np.array([10,11,12,13, 14])\n",
        "array_1D"
      ]
    },
    {
      "cell_type": "code",
      "execution_count": 5,
      "metadata": {
        "id": "p0u1kZGpRknX",
        "outputId": "6f3d8931-16a2-4f8d-e795-204fe647abee",
        "colab": {
          "base_uri": "https://localhost:8080/"
        }
      },
      "outputs": [
        {
          "output_type": "execute_result",
          "data": {
            "text/plain": [
              "array([[20, 30, 40, 50, 60],\n",
              "       [43, 54, 65, 76, 87],\n",
              "       [11, 22, 33, 44, 55]])"
            ]
          },
          "metadata": {},
          "execution_count": 5
        }
      ],
      "source": [
        "array_2D = np.array([[20,30,40,50,60], [43,54,65,76,87], [11,22,33,44,55]])\n",
        "array_2D"
      ]
    },
    {
      "cell_type": "code",
      "execution_count": 7,
      "metadata": {
        "id": "O_Ygj6tqRknY",
        "colab": {
          "base_uri": "https://localhost:8080/"
        },
        "outputId": "73829bfa-3d2a-4ab4-a0a6-8de4a7a41c58"
      },
      "outputs": [
        {
          "output_type": "execute_result",
          "data": {
            "text/plain": [
              "array([[[ 1,  2,  3,  4,  5],\n",
              "        [11, 21, 31, 41, 51]],\n",
              "\n",
              "       [[11, 12, 13, 14, 15],\n",
              "        [51, 52, 53, 54,  5]]])"
            ]
          },
          "metadata": {},
          "execution_count": 7
        }
      ],
      "source": [
        "array_3D = np.array([[[1,2,3,4,5], [11,21,31,41,51]], [[11,12,13,14,15], [51,52,53,54,5]]])\n",
        "array_3D"
      ]
    },
    {
      "cell_type": "markdown",
      "metadata": {
        "id": "SMQOupOiRknc"
      },
      "source": [
        "### 8. Run the next 3 cells to re-define the 3 arrays, since we altered their contents."
      ]
    },
    {
      "cell_type": "code",
      "execution_count": 8,
      "metadata": {
        "id": "5S4EKcsDRknd",
        "colab": {
          "base_uri": "https://localhost:8080/"
        },
        "outputId": "6c49cca0-ebac-41d5-c479-13da64a0749f"
      },
      "outputs": [
        {
          "output_type": "execute_result",
          "data": {
            "text/plain": [
              "array([10, 11, 12, 13, 14])"
            ]
          },
          "metadata": {},
          "execution_count": 8
        }
      ],
      "source": [
        "array_1D = np.array([10,11,12,13,14])\n",
        "array_1D"
      ]
    },
    {
      "cell_type": "code",
      "execution_count": 9,
      "metadata": {
        "id": "j9RXYVHeRknd",
        "colab": {
          "base_uri": "https://localhost:8080/"
        },
        "outputId": "8691c457-c686-47d1-c175-01144d7e8608"
      },
      "outputs": [
        {
          "output_type": "execute_result",
          "data": {
            "text/plain": [
              "array([[20, 30, 40, 50, 60],\n",
              "       [43, 54, 65, 76, 87],\n",
              "       [11, 22, 33, 44, 55]])"
            ]
          },
          "metadata": {},
          "execution_count": 9
        }
      ],
      "source": [
        "array_2D = np.array([[20,30,40,50,60], [43,54,65,76,87], [11,22,33,44,55]])\n",
        "array_2D"
      ]
    },
    {
      "cell_type": "code",
      "execution_count": 10,
      "metadata": {
        "id": "uP1TfwzYRknd",
        "colab": {
          "base_uri": "https://localhost:8080/"
        },
        "outputId": "f4edfa1a-8ba1-410d-bcaa-ae963f7e87ea"
      },
      "outputs": [
        {
          "output_type": "execute_result",
          "data": {
            "text/plain": [
              "array([[[ 1,  2,  3,  4,  5],\n",
              "        [11, 21, 31, 41, 51]],\n",
              "\n",
              "       [[11, 12, 13, 14, 15],\n",
              "        [51, 52, 53, 54,  5]]])"
            ]
          },
          "metadata": {},
          "execution_count": 10
        }
      ],
      "source": [
        "array_3D = np.array([[[1,2,3,4,5], [11,21,31,41,51]], [[11,12,13,14,15], [51,52,53,54,5]]])\n",
        "array_3D"
      ]
    },
    {
      "cell_type": "markdown",
      "metadata": {
        "id": "lwBL5S4ERkni"
      },
      "source": [
        "### 16. Alter the code in the next 3 cells to re-define the 3 arrays as the following datatypes:\n",
        "    A) array_1D -> NumPy Strings\n",
        "    B) array_2D -> Complex Numbers\n",
        "    C) array_3D -> 64-bit Floats\n",
        "    \n",
        "   (<b>Hint</b>: The datatypes are the following: <i>np.str</i>, <i>np.complex</i>, <i>np.float64</i>)"
      ]
    },
    {
      "cell_type": "code",
      "execution_count": 11,
      "metadata": {
        "id": "5A2PgAwKRkni",
        "colab": {
          "base_uri": "https://localhost:8080/"
        },
        "outputId": "4d67976e-17b7-4c32-ff85-abc64b4c2737"
      },
      "outputs": [
        {
          "output_type": "execute_result",
          "data": {
            "text/plain": [
              "array([10, 11, 12, 13, 14])"
            ]
          },
          "metadata": {},
          "execution_count": 11
        }
      ],
      "source": [
        "array_1D = np.array([10,11,12,13,14])\n",
        "array_1D"
      ]
    },
    {
      "cell_type": "code",
      "execution_count": 12,
      "metadata": {
        "id": "805eFdWoRknj",
        "colab": {
          "base_uri": "https://localhost:8080/"
        },
        "outputId": "89c5ca76-d65f-45c0-e676-a1b4da826f01"
      },
      "outputs": [
        {
          "output_type": "execute_result",
          "data": {
            "text/plain": [
              "array([[20, 30, 40, 50, 60],\n",
              "       [43, 54, 65, 76, 87],\n",
              "       [11, 22, 33, 44, 55]])"
            ]
          },
          "metadata": {},
          "execution_count": 12
        }
      ],
      "source": [
        "array_2D = np.array([[20,30,40,50,60], [43,54,65,76,87], [11,22,33,44,55]])\n",
        "array_2D"
      ]
    },
    {
      "cell_type": "code",
      "execution_count": 13,
      "metadata": {
        "id": "65xvbyKaRknj",
        "colab": {
          "base_uri": "https://localhost:8080/"
        },
        "outputId": "494ab4ce-5176-44e7-ed39-343d06187fe0"
      },
      "outputs": [
        {
          "output_type": "execute_result",
          "data": {
            "text/plain": [
              "array([[[ 1,  2,  3,  4,  5],\n",
              "        [11, 21, 31, 41, 51]],\n",
              "\n",
              "       [[11, 12, 13, 14, 15],\n",
              "        [51, 52, 53, 54,  5]]])"
            ]
          },
          "metadata": {},
          "execution_count": 13
        }
      ],
      "source": [
        "array_3D = np.array([[[1,2,3,4,5], [11,21,31,41,51]], [[11,12,13,14,15], [51,52,53,54,5]]])\n",
        "array_3D"
      ]
    },
    {
      "cell_type": "markdown",
      "metadata": {
        "id": "Nm4tOoagRknj"
      },
      "source": [
        "### 17. Now run the next 3 cells to re-define the 3 arrays as 32-bit floats, since we want to run some more computations on them"
      ]
    },
    {
      "cell_type": "code",
      "execution_count": 14,
      "metadata": {
        "id": "pLSMp4I5Rknj",
        "colab": {
          "base_uri": "https://localhost:8080/"
        },
        "outputId": "cbba6877-9624-4b1e-964d-b654daa68326"
      },
      "outputs": [
        {
          "output_type": "execute_result",
          "data": {
            "text/plain": [
              "array([10., 11., 12., 13., 14.], dtype=float32)"
            ]
          },
          "metadata": {},
          "execution_count": 14
        }
      ],
      "source": [
        "array_1D = np.array([10,11,12,13,14], dtype = np.float32)\n",
        "array_1D"
      ]
    },
    {
      "cell_type": "code",
      "execution_count": 15,
      "metadata": {
        "id": "a8gmN5x9Rknk",
        "colab": {
          "base_uri": "https://localhost:8080/"
        },
        "outputId": "97fc2ff9-6e74-4d5d-ba1d-c7a0e7ad2586"
      },
      "outputs": [
        {
          "output_type": "execute_result",
          "data": {
            "text/plain": [
              "array([[20., 30., 40., 50., 60.],\n",
              "       [43., 54., 65., 76., 87.],\n",
              "       [11., 22., 33., 44., 55.]], dtype=float32)"
            ]
          },
          "metadata": {},
          "execution_count": 15
        }
      ],
      "source": [
        "array_2D = np.array([[20,30,40,50,60], [43,54,65,76,87], [11,22,33,44,55]], dtype = np.float32)\n",
        "array_2D"
      ]
    },
    {
      "cell_type": "code",
      "execution_count": 16,
      "metadata": {
        "id": "ToANBXJ-Rknk",
        "colab": {
          "base_uri": "https://localhost:8080/"
        },
        "outputId": "f9ac9953-6c93-46c7-a5fb-e0b76338c275"
      },
      "outputs": [
        {
          "output_type": "execute_result",
          "data": {
            "text/plain": [
              "array([[[ 1.,  2.,  3.,  4.,  5.],\n",
              "        [11., 21., 31., 41., 51.]],\n",
              "\n",
              "       [[11., 12., 13., 14., 15.],\n",
              "        [51., 52., 53., 54.,  5.]]], dtype=float32)"
            ]
          },
          "metadata": {},
          "execution_count": 16
        }
      ],
      "source": [
        "array_3D = np.array([[[1,2,3,4,5], [11,21,31,41,51]], [[11,12,13,14,15], [51,52,53,54,5]]], dtype = np.float32)\n",
        "array_3D"
      ]
    }
  ],
  "metadata": {
    "kernelspec": {
      "display_name": "Python 3",
      "language": "python",
      "name": "python3"
    },
    "language_info": {
      "codemirror_mode": {
        "name": "ipython",
        "version": 3
      },
      "file_extension": ".py",
      "mimetype": "text/x-python",
      "name": "python",
      "nbconvert_exporter": "python",
      "pygments_lexer": "ipython3",
      "version": "3.7.6"
    },
    "colab": {
      "provenance": []
    }
  },
  "nbformat": 4,
  "nbformat_minor": 0
}